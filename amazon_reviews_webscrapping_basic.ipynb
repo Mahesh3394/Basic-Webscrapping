{
 "cells": [
  {
   "cell_type": "code",
   "execution_count": 1,
   "metadata": {
    "id": "q36TBu21wg8r"
   },
   "outputs": [],
   "source": [
    "# import libraries\n",
    "from bs4 import BeautifulSoup as bs\n",
    "import requests"
   ]
  },
  {
   "cell_type": "code",
   "execution_count": 2,
   "metadata": {
    "id": "TER7SUq0HAAZ"
   },
   "outputs": [],
   "source": [
    "# url of web scraping\n",
    "url = 'https://www.amazon.in/OnePlus-Nord-Lite-128GB-Storage/product-reviews/B09WQYFLRX/ref=cm_cr_dp_d_show_all_btm?ie=UTF8&reviewerType=all_reviews'"
   ]
  },
  {
   "cell_type": "code",
   "execution_count": 3,
   "metadata": {
    "id": "hqkDfpdOH99o"
   },
   "outputs": [],
   "source": [
    "# requesting url\n",
    "rev = requests.get(url)"
   ]
  },
  {
   "cell_type": "code",
   "execution_count": 4,
   "metadata": {
    "colab": {
     "base_uri": "https://localhost:8080/"
    },
    "id": "7oEJljvZIE3v",
    "outputId": "6b7eb805-bfce-4080-fbc7-aacd55a9e4da"
   },
   "outputs": [
    {
     "data": {
      "text/plain": [
       "<Response [200]>"
      ]
     },
     "execution_count": 4,
     "metadata": {},
     "output_type": "execute_result"
    }
   ],
   "source": [
    "rev"
   ]
  },
  {
   "cell_type": "code",
   "execution_count": 5,
   "metadata": {
    "id": "fgkJcv_6IM9r"
   },
   "outputs": [],
   "source": [
    "# html parser\n",
    "soup = bs(rev.content,'html.parser')"
   ]
  },
  {
   "cell_type": "code",
   "execution_count": 6,
   "metadata": {
    "id": "IdqbkoEnJAPS"
   },
   "outputs": [],
   "source": [
    "# extracting names of reviewer\n",
    "names = soup.find_all('span',class_ = 'a-profile-name')"
   ]
  },
  {
   "cell_type": "code",
   "execution_count": 7,
   "metadata": {
    "id": "4hsL9qOjLABK"
   },
   "outputs": [],
   "source": [
    "# adding a list of names of reviewer\n",
    "rev_name = []\n",
    "for i in range(len(names)):\n",
    "  rev_name.append(names[i].get_text())"
   ]
  },
  {
   "cell_type": "code",
   "execution_count": 8,
   "metadata": {
    "colab": {
     "base_uri": "https://localhost:8080/",
     "height": 36
    },
    "id": "koLI4oB7X6O7",
    "outputId": "898ad2a3-dfbe-43f7-c9e6-3cb690480b1c"
   },
   "outputs": [
    {
     "data": {
      "text/plain": [
       "'Verified purchase'"
      ]
     },
     "execution_count": 8,
     "metadata": {},
     "output_type": "execute_result"
    }
   ],
   "source": [
    "rev_name.pop(0)"
   ]
  },
  {
   "cell_type": "code",
   "execution_count": 9,
   "metadata": {
    "colab": {
     "base_uri": "https://localhost:8080/",
     "height": 36
    },
    "id": "jvXWttYSYAcf",
    "outputId": "b5a371ec-351b-46e5-b96f-21eff97bfb1f"
   },
   "outputs": [
    {
     "data": {
      "text/plain": [
       "'KAMAL VIRANI'"
      ]
     },
     "execution_count": 9,
     "metadata": {},
     "output_type": "execute_result"
    }
   ],
   "source": [
    "rev_name.pop(0)"
   ]
  },
  {
   "cell_type": "code",
   "execution_count": 10,
   "metadata": {
    "id": "bS6qWxJiMmWD"
   },
   "outputs": [],
   "source": [
    "## extracting ratings of review\n",
    "rating = soup.find_all('i',class_ = 'a-icon a-icon-star a-star-4 review-rating')"
   ]
  },
  {
   "cell_type": "code",
   "execution_count": 11,
   "metadata": {
    "id": "yM7S1Q_EOfzH"
   },
   "outputs": [],
   "source": [
    "# adding a list of ratings of review\n",
    "ratings = []\n",
    "for i in range(len(rating)):\n",
    "  ratings.append((rating[i].get_text())[0])"
   ]
  },
  {
   "cell_type": "code",
   "execution_count": 12,
   "metadata": {
    "colab": {
     "base_uri": "https://localhost:8080/",
     "height": 36
    },
    "id": "bkCJ9FLFOrMo",
    "outputId": "596ba78e-c643-4dc9-fcdc-859d2a74991a"
   },
   "outputs": [
    {
     "data": {
      "text/plain": [
       "'4'"
      ]
     },
     "execution_count": 12,
     "metadata": {},
     "output_type": "execute_result"
    }
   ],
   "source": [
    "ratings.pop(0)"
   ]
  },
  {
   "cell_type": "code",
   "execution_count": 13,
   "metadata": {
    "id": "Tk384pOSOsoj"
   },
   "outputs": [],
   "source": [
    "# extracting review\n",
    "review = soup.find_all('span',{\"data-hook\":\"review-body\"})"
   ]
  },
  {
   "cell_type": "code",
   "execution_count": 14,
   "metadata": {
    "id": "RlqMw2RaSCAW"
   },
   "outputs": [],
   "source": [
    "# adding a list of review\n",
    "reviews = []\n",
    "for i in range(len(review)):\n",
    "  reviews.append((review[i].get_text()))"
   ]
  },
  {
   "cell_type": "code",
   "execution_count": 15,
   "metadata": {
    "id": "AYWZjyDnSJIt"
   },
   "outputs": [],
   "source": [
    "# removing '/n' from left side\n",
    "reviews = [reviews.lstrip('\\n') for reviews in reviews]"
   ]
  },
  {
   "cell_type": "code",
   "execution_count": 16,
   "metadata": {
    "id": "AlOOZgqUSX2g"
   },
   "outputs": [],
   "source": [
    "# removing '/n' from right side\n",
    "reviews = [reviews.rstrip('\\n') for reviews in reviews]"
   ]
  },
  {
   "cell_type": "code",
   "execution_count": 17,
   "metadata": {
    "colab": {
     "base_uri": "https://localhost:8080/",
     "height": 54
    },
    "id": "OYqRI3G6SY_2",
    "outputId": "e9861db5-de7e-4fd9-eb5d-8b341bb491bf"
   },
   "outputs": [
    {
     "data": {
      "text/plain": [
       "'Overall it is a good phone for day-to-day use. Front camera having 16MP does not meet the mark but rear 64MP AI Camera works great. Battery backup is good and charges up fast with the 33w supervooc charger.'"
      ]
     },
     "execution_count": 17,
     "metadata": {},
     "output_type": "execute_result"
    }
   ],
   "source": [
    "# reading random review\n",
    "reviews[1]"
   ]
  },
  {
   "cell_type": "code",
   "execution_count": 24,
   "metadata": {
    "id": "oh42tKDBSeCB"
   },
   "outputs": [],
   "source": [
    "# creating a dataframe with data\n",
    "import pandas as pd\n",
    "data = {'Names': rev_name,\n",
    "        'Ratings': ratings,\n",
    "        'Reviews': reviews}\n",
    "\n",
    "df = pd.DataFrame(data)"
   ]
  },
  {
   "cell_type": "code",
   "execution_count": 25,
   "metadata": {
    "colab": {
     "base_uri": "https://localhost:8080/",
     "height": 363
    },
    "id": "ePZdKVLYVK3l",
    "outputId": "3e910dde-bdda-445f-c252-aa803c71fde6"
   },
   "outputs": [
    {
     "data": {
      "text/html": [
       "<div>\n",
       "<style scoped>\n",
       "    .dataframe tbody tr th:only-of-type {\n",
       "        vertical-align: middle;\n",
       "    }\n",
       "\n",
       "    .dataframe tbody tr th {\n",
       "        vertical-align: top;\n",
       "    }\n",
       "\n",
       "    .dataframe thead th {\n",
       "        text-align: right;\n",
       "    }\n",
       "</style>\n",
       "<table border=\"1\" class=\"dataframe\">\n",
       "  <thead>\n",
       "    <tr style=\"text-align: right;\">\n",
       "      <th></th>\n",
       "      <th>Names</th>\n",
       "      <th>Ratings</th>\n",
       "      <th>Reviews</th>\n",
       "    </tr>\n",
       "  </thead>\n",
       "  <tbody>\n",
       "    <tr>\n",
       "      <th>0</th>\n",
       "      <td>Amit Deokar</td>\n",
       "      <td>4</td>\n",
       "      <td>very good phone in range 15000-20000, decent f...</td>\n",
       "    </tr>\n",
       "    <tr>\n",
       "      <th>1</th>\n",
       "      <td>Amlan Saikia</td>\n",
       "      <td>4</td>\n",
       "      <td>Overall it is a good phone for day-to-day use....</td>\n",
       "    </tr>\n",
       "    <tr>\n",
       "      <th>2</th>\n",
       "      <td>Monika jaiswal</td>\n",
       "      <td>4</td>\n",
       "      <td>Phone performance under this budget is surpris...</td>\n",
       "    </tr>\n",
       "    <tr>\n",
       "      <th>3</th>\n",
       "      <td>sanjay prajapati</td>\n",
       "      <td>4</td>\n",
       "      <td>actually i am a big fan of iphone but i needed...</td>\n",
       "    </tr>\n",
       "    <tr>\n",
       "      <th>4</th>\n",
       "      <td>Rajeev</td>\n",
       "      <td>4</td>\n",
       "      <td>finger print reader location is not comfortabl...</td>\n",
       "    </tr>\n",
       "    <tr>\n",
       "      <th>5</th>\n",
       "      <td>Rahimuddin</td>\n",
       "      <td>4</td>\n",
       "      <td>Bs normal hai Esme Google dailer nahi hota to ...</td>\n",
       "    </tr>\n",
       "    <tr>\n",
       "      <th>6</th>\n",
       "      <td>Ajay Kumar</td>\n",
       "      <td>4</td>\n",
       "      <td>Battery life not good other wise good phone.</td>\n",
       "    </tr>\n",
       "    <tr>\n",
       "      <th>7</th>\n",
       "      <td>Chandrababu H</td>\n",
       "      <td>4</td>\n",
       "      <td>Nice Camera quality, battery life n high end g...</td>\n",
       "    </tr>\n",
       "    <tr>\n",
       "      <th>8</th>\n",
       "      <td>Shivam</td>\n",
       "      <td>4</td>\n",
       "      <td>( Please read it till end )Reviewing after 1 w...</td>\n",
       "    </tr>\n",
       "    <tr>\n",
       "      <th>9</th>\n",
       "      <td>Gowri naidu</td>\n",
       "      <td>4</td>\n",
       "      <td>Friendly budget phone from 1 plus</td>\n",
       "    </tr>\n",
       "  </tbody>\n",
       "</table>\n",
       "</div>"
      ],
      "text/plain": [
       "              Names Ratings                                            Reviews\n",
       "0       Amit Deokar       4  very good phone in range 15000-20000, decent f...\n",
       "1      Amlan Saikia       4  Overall it is a good phone for day-to-day use....\n",
       "2    Monika jaiswal       4  Phone performance under this budget is surpris...\n",
       "3  sanjay prajapati       4  actually i am a big fan of iphone but i needed...\n",
       "4            Rajeev       4  finger print reader location is not comfortabl...\n",
       "5        Rahimuddin       4  Bs normal hai Esme Google dailer nahi hota to ...\n",
       "6        Ajay Kumar       4       Battery life not good other wise good phone.\n",
       "7     Chandrababu H       4  Nice Camera quality, battery life n high end g...\n",
       "8            Shivam       4  ( Please read it till end )Reviewing after 1 w...\n",
       "9       Gowri naidu       4                  Friendly budget phone from 1 plus"
      ]
     },
     "execution_count": 25,
     "metadata": {},
     "output_type": "execute_result"
    }
   ],
   "source": [
    "# dataframe\n",
    "df"
   ]
  },
  {
   "cell_type": "code",
   "execution_count": 27,
   "metadata": {
    "id": "5ikyvnUbYY4d"
   },
   "outputs": [],
   "source": [
    "# saving dataframe into csv file\n",
    "df.to_csv(r'E:\\reviews_final.csv')"
   ]
  },
  {
   "cell_type": "code",
   "execution_count": null,
   "metadata": {},
   "outputs": [],
   "source": []
  }
 ],
 "metadata": {
  "colab": {
   "provenance": []
  },
  "kernelspec": {
   "display_name": "Python 3 (ipykernel)",
   "language": "python",
   "name": "python3"
  },
  "language_info": {
   "codemirror_mode": {
    "name": "ipython",
    "version": 3
   },
   "file_extension": ".py",
   "mimetype": "text/x-python",
   "name": "python",
   "nbconvert_exporter": "python",
   "pygments_lexer": "ipython3",
   "version": "3.9.7"
  }
 },
 "nbformat": 4,
 "nbformat_minor": 1
}
